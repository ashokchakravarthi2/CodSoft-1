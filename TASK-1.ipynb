{
 "cells": [
  {
   "cell_type": "code",
   "execution_count": 1,
   "id": "76ec852d",
   "metadata": {},
   "outputs": [
    {
     "name": "stdout",
     "output_type": "stream",
     "text": [
      "Welcome to the Chatbot! Type 'bye' or 'exit' to quit.\n",
      "You: hi\n",
      "Chatbot: Hello! How can I assist you today?\n",
      "You: What is your name?\n",
      "Chatbot: My name is Chatbot.\n",
      "You: how are you?\n",
      "Chatbot: I'm doing well, thank you!\n",
      "You: thank you\n",
      "Chatbot: You're welcome!\n",
      "You: can you tell me the weather?\n",
      "Chatbot: Unfortunately, I don't have access to weather information.\n",
      "You: what time is it?\n",
      "Chatbot: I don't actually have the ability to tell time.\n",
      "You: bye\n"
     ]
    }
   ],
   "source": [
    "import re\n",
    "# Define a dictionary of rules and their corresponding responses\n",
    "rules = {\n",
    "    r'hi|hello|hey': 'Hello! How can I assist you today?',\n",
    "    r'what(.*?)your name\\??': 'My name is Chatbot.',\n",
    "    r'how(.*?)you?': 'I\\'m doing well, thank you!',\n",
    "    r'thank(.*?)': 'You\\'re welcome!',\n",
    "    r'bye|exit': 'Goodbye! Have a great day.',\n",
    "    r'(.*?)weather(.*)': 'Unfortunately, I don\\'t have access to weather information.',\n",
    "    r'(.*?)time(.*)': 'I don\\'t actually have the ability to tell time.',\n",
    "}\n",
    "\n",
    "# Define a function to get the response based on user input\n",
    "def get_response(user_input):\n",
    "    user_input = user_input.lower()\n",
    "    for pattern, response in rules.items():\n",
    "        if re.match(pattern, user_input):\n",
    "            return response\n",
    "    return \"I'm sorry, I didn't understand your request. Can you please rephrase?\"\n",
    "\n",
    "# Main loop\n",
    "print(\"Welcome to the Chatbot! Type 'bye' or 'exit' to quit.\")\n",
    "while True:\n",
    "    user_input = input(\"You: \")\n",
    "    if user_input.lower() in ['bye', 'exit']:\n",
    "        break\n",
    "    response = get_response(user_input)\n",
    "    print(\"Chatbot:\", response)"
   ]
  },
  {
   "cell_type": "code",
   "execution_count": null,
   "id": "1a513e4b",
   "metadata": {},
   "outputs": [],
   "source": []
  }
 ],
 "metadata": {
  "kernelspec": {
   "display_name": "Python 3 (ipykernel)",
   "language": "python",
   "name": "python3"
  },
  "language_info": {
   "codemirror_mode": {
    "name": "ipython",
    "version": 3
   },
   "file_extension": ".py",
   "mimetype": "text/x-python",
   "name": "python",
   "nbconvert_exporter": "python",
   "pygments_lexer": "ipython3",
   "version": "3.11.5"
  }
 },
 "nbformat": 4,
 "nbformat_minor": 5
}
